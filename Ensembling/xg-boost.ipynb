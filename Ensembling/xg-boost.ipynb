{
 "cells": [
  {
   "cell_type": "markdown",
   "metadata": {},
   "source": [
    "# XG Boosting"
   ]
  },
  {
   "cell_type": "code",
   "execution_count": 1,
   "metadata": {},
   "outputs": [],
   "source": [
    "%matplotlib inline\n",
    "from sklearn.model_selection import train_test_split\n",
    "from sklearn.datasets import make_moons\n",
    "from sklearn.metrics import mean_squared_error"
   ]
  },
  {
   "cell_type": "code",
   "execution_count": 2,
   "metadata": {},
   "outputs": [],
   "source": [
    "X, y = make_moons(n_samples=500, noise=0.30, random_state=42)\n",
    "X_train, X_test, y_train, y_test = train_test_split(X, y, random_state=42)"
   ]
  },
  {
   "cell_type": "code",
   "execution_count": 3,
   "metadata": {},
   "outputs": [],
   "source": [
    "try:\n",
    "    import xgboost\n",
    "except ImportError as ex:\n",
    "    print(\"Error: the xgboost library is not installed.\")\n",
    "    xgboost = None"
   ]
  },
  {
   "cell_type": "code",
   "execution_count": 4,
   "metadata": {},
   "outputs": [],
   "source": [
    "if xgboost is not None:  # not shown in the book\n",
    "    xgb_reg = xgboost.XGBRegressor(random_state=42)\n",
    "    xgb_reg.fit(X_train, y_train)\n",
    "    y_pred = xgb_reg.predict(X_train)\n",
    "    # val_error = mean_squared_error(y_val, y_pred) # Not shown\n",
    "    # print(\"Validation MSE:\", val_error)           # Not shown"
   ]
  },
  {
   "cell_type": "code",
   "execution_count": 5,
   "metadata": {},
   "outputs": [
    {
     "name": "stdout",
     "output_type": "stream",
     "text": [
      "[0]\tvalidation_0-rmse:0.40310\n",
      "[1]\tvalidation_0-rmse:0.34790\n"
     ]
    },
    {
     "name": "stdout",
     "output_type": "stream",
     "text": [
      "[2]\tvalidation_0-rmse:0.31408\n",
      "[3]\tvalidation_0-rmse:0.29548\n",
      "[4]\tvalidation_0-rmse:0.28377\n",
      "[5]\tvalidation_0-rmse:0.28071\n",
      "[6]\tvalidation_0-rmse:0.27924\n",
      "[7]\tvalidation_0-rmse:0.27657\n",
      "[8]\tvalidation_0-rmse:0.27927\n",
      "[9]\tvalidation_0-rmse:0.28203\n",
      "[10]\tvalidation_0-rmse:0.28468\n",
      "[11]\tvalidation_0-rmse:0.28836\n",
      "[12]\tvalidation_0-rmse:0.29014\n",
      "[13]\tvalidation_0-rmse:0.29068\n",
      "[14]\tvalidation_0-rmse:0.29294\n",
      "[15]\tvalidation_0-rmse:0.29343\n",
      "[16]\tvalidation_0-rmse:0.29744\n",
      "[17]\tvalidation_0-rmse:0.29826\n",
      "[18]\tvalidation_0-rmse:0.29855\n",
      "[19]\tvalidation_0-rmse:0.29916\n",
      "[20]\tvalidation_0-rmse:0.29992\n",
      "[21]\tvalidation_0-rmse:0.30023\n",
      "[22]\tvalidation_0-rmse:0.30144\n",
      "[23]\tvalidation_0-rmse:0.30187\n",
      "[24]\tvalidation_0-rmse:0.30254\n",
      "[25]\tvalidation_0-rmse:0.30260\n",
      "[26]\tvalidation_0-rmse:0.30382\n",
      "[27]\tvalidation_0-rmse:0.30405\n",
      "[28]\tvalidation_0-rmse:0.30504\n",
      "[29]\tvalidation_0-rmse:0.30623\n",
      "[30]\tvalidation_0-rmse:0.30646\n",
      "[31]\tvalidation_0-rmse:0.30697\n",
      "[32]\tvalidation_0-rmse:0.30765\n",
      "[33]\tvalidation_0-rmse:0.30904\n",
      "[34]\tvalidation_0-rmse:0.30925\n",
      "[35]\tvalidation_0-rmse:0.30929\n",
      "[36]\tvalidation_0-rmse:0.30953\n",
      "[37]\tvalidation_0-rmse:0.30987\n",
      "[38]\tvalidation_0-rmse:0.31074\n",
      "[39]\tvalidation_0-rmse:0.31113\n",
      "[40]\tvalidation_0-rmse:0.31149\n",
      "[41]\tvalidation_0-rmse:0.31214\n",
      "[42]\tvalidation_0-rmse:0.31273\n",
      "[43]\tvalidation_0-rmse:0.31326\n",
      "[44]\tvalidation_0-rmse:0.31365\n",
      "[45]\tvalidation_0-rmse:0.31397\n",
      "[46]\tvalidation_0-rmse:0.31489\n",
      "[47]\tvalidation_0-rmse:0.31520\n",
      "[48]\tvalidation_0-rmse:0.31549\n",
      "[49]\tvalidation_0-rmse:0.31609\n",
      "[50]\tvalidation_0-rmse:0.31621\n",
      "[51]\tvalidation_0-rmse:0.31641\n",
      "[52]\tvalidation_0-rmse:0.31701\n",
      "[53]\tvalidation_0-rmse:0.31726\n",
      "[54]\tvalidation_0-rmse:0.31747\n",
      "[55]\tvalidation_0-rmse:0.31736\n",
      "[56]\tvalidation_0-rmse:0.31743\n",
      "[57]\tvalidation_0-rmse:0.31756\n",
      "[58]\tvalidation_0-rmse:0.31761\n",
      "[59]\tvalidation_0-rmse:0.31784\n",
      "[60]\tvalidation_0-rmse:0.31786\n",
      "[61]\tvalidation_0-rmse:0.31791\n",
      "[62]\tvalidation_0-rmse:0.31804\n",
      "[63]\tvalidation_0-rmse:0.31834\n",
      "[64]\tvalidation_0-rmse:0.31833\n",
      "[65]\tvalidation_0-rmse:0.31832\n",
      "[66]\tvalidation_0-rmse:0.31826\n",
      "[67]\tvalidation_0-rmse:0.31833\n",
      "[68]\tvalidation_0-rmse:0.31836\n",
      "[69]\tvalidation_0-rmse:0.31839\n",
      "[70]\tvalidation_0-rmse:0.31866\n",
      "[71]\tvalidation_0-rmse:0.31885\n",
      "[72]\tvalidation_0-rmse:0.31901\n",
      "[73]\tvalidation_0-rmse:0.31905\n",
      "[74]\tvalidation_0-rmse:0.31922\n",
      "[75]\tvalidation_0-rmse:0.31933\n",
      "[76]\tvalidation_0-rmse:0.31938\n",
      "[77]\tvalidation_0-rmse:0.31940\n",
      "[78]\tvalidation_0-rmse:0.31953\n",
      "[79]\tvalidation_0-rmse:0.31961\n",
      "[80]\tvalidation_0-rmse:0.31960\n",
      "[81]\tvalidation_0-rmse:0.31972\n",
      "[82]\tvalidation_0-rmse:0.31983\n",
      "[83]\tvalidation_0-rmse:0.31986\n",
      "[84]\tvalidation_0-rmse:0.31987\n",
      "[85]\tvalidation_0-rmse:0.31988\n",
      "[86]\tvalidation_0-rmse:0.31989\n",
      "[87]\tvalidation_0-rmse:0.31996\n",
      "[88]\tvalidation_0-rmse:0.32009\n",
      "[89]\tvalidation_0-rmse:0.32013\n",
      "[90]\tvalidation_0-rmse:0.32012\n",
      "[91]\tvalidation_0-rmse:0.32011\n",
      "[92]\tvalidation_0-rmse:0.32013\n",
      "[93]\tvalidation_0-rmse:0.32009\n",
      "[94]\tvalidation_0-rmse:0.32014\n",
      "[95]\tvalidation_0-rmse:0.32017\n",
      "[96]\tvalidation_0-rmse:0.32015\n",
      "[97]\tvalidation_0-rmse:0.32017\n",
      "[98]\tvalidation_0-rmse:0.32019\n",
      "[99]\tvalidation_0-rmse:0.32026\n",
      "Validation MSE: 0.1025682268485344\n"
     ]
    }
   ],
   "source": [
    "if xgboost is not None:  # not shown in the book\n",
    "    xgb_reg.fit(X_train, y_train,\n",
    "                eval_set=[(X_test, y_test)])\n",
    "    y_pred = xgb_reg.predict(X_test)\n",
    "    val_error = mean_squared_error(y_test, y_pred)  # Not shown\n",
    "    print(\"Validation MSE:\", val_error)            # Not shown"
   ]
  }
 ],
 "metadata": {
  "kernelspec": {
   "display_name": "Python 3",
   "language": "python",
   "name": "python3"
  },
  "language_info": {
   "codemirror_mode": {
    "name": "ipython",
    "version": 3
   },
   "file_extension": ".py",
   "mimetype": "text/x-python",
   "name": "python",
   "nbconvert_exporter": "python",
   "pygments_lexer": "ipython3",
   "version": "3.8.19"
  }
 },
 "nbformat": 4,
 "nbformat_minor": 2
}
