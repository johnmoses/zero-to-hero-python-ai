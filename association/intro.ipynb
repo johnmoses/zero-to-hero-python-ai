{
 "cells": [
  {
   "cell_type": "markdown",
   "metadata": {},
   "source": [
    "# Association Rule\n",
    "\n",
    "Association rule learning is a type of unsupervised learning technique that checks for the dependency of one data item on another data item and maps accordingly so that it can be more profitable\n",
    "\n",
    "When Walmart, a chain store in the United States, studied the shopping behavior of customers, the study showed that diapers and beers are bought together. Because, as it turns out, fathers are often tasked with shopping while mothers stay with the baby\n",
    "\n",
    "## The Algorithm\n",
    "The Apriori Algorithm, used for the first phase of the Association Rules, is the most popular and classical algorithm in the frequent old parts. These algorithm properties and data are evaluated with Boolean Association Rules. In this algorithm, there are product clusters that pass frequently, and then strong relationships between these products and other products are sought.\n",
    "\n",
    "The importance of an Association Rules can be determined by 3 parameters that are used to identify the strength of the algorithm. Namely,\n",
    "\n",
    "- Support\n",
    "- Confidence\n",
    "- Lift"
   ]
  },
  {
   "cell_type": "markdown",
   "metadata": {},
   "source": [
    "We will use the `mlextend` library for this demonstration"
   ]
  },
  {
   "cell_type": "code",
   "execution_count": null,
   "metadata": {},
   "outputs": [],
   "source": [
    "# %pip install mlxtend"
   ]
  },
  {
   "cell_type": "code",
   "execution_count": 2,
   "metadata": {},
   "outputs": [],
   "source": [
    "\"\"\" \n",
    "Demonstrate the association rules using Apriori algorithm\n",
    "\"\"\"\n",
    "from mlxtend.frequent_patterns import apriori\n",
    "from mlxtend.frequent_patterns import association_rules\n",
    "import pandas as pd\n",
    "\n",
    "def create_sample_data():\n",
    "    \"\"\"Create sample transaction data\"\"\"\n",
    "    data = {\n",
    "        'TID': [1, 2, 3, 4, 5],\n",
    "        'Items': [\n",
    "            ['bread', 'milk', 'eggs'],\n",
    "            ['bread', 'diapers'],\n",
    "\n",
    "            ['milk', 'diapers', 'beer'],\n",
    "            ['bread', 'milk', 'diapers', 'beer'],\n",
    "            ['bread', 'milk', 'diapers']\n",
    "        ]\n",
    "    }\n",
    "    return pd.DataFrame(data)\n",
    "\n",
    "def prepare_transactions(df):\n",
    "    \"\"\"Convert transaction data to one-hot encoded format\"\"\"\n",
    "    transactions = pd.get_dummies(df['Items'].apply(pd.Series).stack()).groupby(level=0).sum()\n",
    "\n",
    "    return transactions\n",
    "\n",
    "def generate_rules(transactions, min_support=0.2, min_confidence=0.6):\n",
    "    \"\"\"Generate association rules using Apriori\"\"\"\n",
    "    frequent_itemsets = apriori(transactions, min_support=min_support, use_colnames=True)\n",
    "    rules = association_rules(frequent_itemsets, metric=\"confidence\", min_threshold=min_confidence)\n",
    "    return rules"
   ]
  },
  {
   "cell_type": "code",
   "execution_count": 12,
   "metadata": {},
   "outputs": [
    {
     "name": "stdout",
     "output_type": "stream",
     "text": [
      "               antecedents      consequents  antecedent support  \\\n",
      "0                   (beer)        (diapers)                 0.4   \n",
      "11           (beer, bread)           (milk)                 0.2   \n",
      "23  (beer, bread, diapers)           (milk)                 0.2   \n",
      "22     (beer, bread, milk)        (diapers)                 0.2   \n",
      "21                  (eggs)    (bread, milk)                 0.2   \n",
      "20            (eggs, milk)          (bread)                 0.2   \n",
      "19           (bread, eggs)           (milk)                 0.2   \n",
      "15                  (beer)  (milk, diapers)                 0.4   \n",
      "13         (beer, diapers)           (milk)                 0.4   \n",
      "1                   (beer)           (milk)                 0.4   \n",
      "12            (beer, milk)        (diapers)                 0.4   \n",
      "10           (beer, bread)        (diapers)                 0.2   \n",
      "9                   (eggs)           (milk)                 0.2   \n",
      "4                   (eggs)          (bread)                 0.2   \n",
      "24           (beer, bread)  (milk, diapers)                 0.2   \n",
      "8                (diapers)           (milk)                 0.8   \n",
      "7                   (milk)        (diapers)                 0.8   \n",
      "6                   (milk)          (bread)                 0.8   \n",
      "5                  (bread)           (milk)                 0.8   \n",
      "3                (diapers)          (bread)                 0.8   \n",
      "2                  (bread)        (diapers)                 0.8   \n",
      "14         (milk, diapers)           (beer)                 0.6   \n",
      "16           (bread, milk)        (diapers)                 0.6   \n",
      "17        (bread, diapers)           (milk)                 0.6   \n",
      "18         (milk, diapers)          (bread)                 0.6   \n",
      "\n",
      "    consequent support  support  confidence      lift  representativity  \\\n",
      "0                  0.8      0.4    1.000000  1.250000               1.0   \n",
      "11                 0.8      0.2    1.000000  1.250000               1.0   \n",
      "23                 0.8      0.2    1.000000  1.250000               1.0   \n",
      "22                 0.8      0.2    1.000000  1.250000               1.0   \n",
      "21                 0.6      0.2    1.000000  1.666667               1.0   \n",
      "20                 0.8      0.2    1.000000  1.250000               1.0   \n",
      "19                 0.8      0.2    1.000000  1.250000               1.0   \n",
      "15                 0.6      0.4    1.000000  1.666667               1.0   \n",
      "13                 0.8      0.4    1.000000  1.250000               1.0   \n",
      "1                  0.8      0.4    1.000000  1.250000               1.0   \n",
      "12                 0.8      0.4    1.000000  1.250000               1.0   \n",
      "10                 0.8      0.2    1.000000  1.250000               1.0   \n",
      "9                  0.8      0.2    1.000000  1.250000               1.0   \n",
      "4                  0.8      0.2    1.000000  1.250000               1.0   \n",
      "24                 0.6      0.2    1.000000  1.666667               1.0   \n",
      "8                  0.8      0.6    0.750000  0.937500               1.0   \n",
      "7                  0.8      0.6    0.750000  0.937500               1.0   \n",
      "6                  0.8      0.6    0.750000  0.937500               1.0   \n",
      "5                  0.8      0.6    0.750000  0.937500               1.0   \n",
      "3                  0.8      0.6    0.750000  0.937500               1.0   \n",
      "2                  0.8      0.6    0.750000  0.937500               1.0   \n",
      "14                 0.4      0.4    0.666667  1.666667               1.0   \n",
      "16                 0.8      0.4    0.666667  0.833333               1.0   \n",
      "17                 0.8      0.4    0.666667  0.833333               1.0   \n",
      "18                 0.8      0.4    0.666667  0.833333               1.0   \n",
      "\n",
      "    leverage  conviction  zhangs_metric   jaccard  certainty  kulczynski  \n",
      "0       0.08         inf       0.333333  0.500000   1.000000    0.750000  \n",
      "11      0.04         inf       0.250000  0.250000   1.000000    0.625000  \n",
      "23      0.04         inf       0.250000  0.250000   1.000000    0.625000  \n",
      "22      0.04         inf       0.250000  0.250000   1.000000    0.625000  \n",
      "21      0.08         inf       0.500000  0.333333   1.000000    0.666667  \n",
      "20      0.04         inf       0.250000  0.250000   1.000000    0.625000  \n",
      "19      0.04         inf       0.250000  0.250000   1.000000    0.625000  \n",
      "15      0.16         inf       0.666667  0.666667   1.000000    0.833333  \n",
      "13      0.08         inf       0.333333  0.500000   1.000000    0.750000  \n",
      "1       0.08         inf       0.333333  0.500000   1.000000    0.750000  \n",
      "12      0.08         inf       0.333333  0.500000   1.000000    0.750000  \n",
      "10      0.04         inf       0.250000  0.250000   1.000000    0.625000  \n",
      "9       0.04         inf       0.250000  0.250000   1.000000    0.625000  \n",
      "4       0.04         inf       0.250000  0.250000   1.000000    0.625000  \n",
      "24      0.08         inf       0.500000  0.333333   1.000000    0.666667  \n",
      "8      -0.04         0.8      -0.250000  0.600000  -0.250000    0.750000  \n",
      "7      -0.04         0.8      -0.250000  0.600000  -0.250000    0.750000  \n",
      "6      -0.04         0.8      -0.250000  0.600000  -0.250000    0.750000  \n",
      "5      -0.04         0.8      -0.250000  0.600000  -0.250000    0.750000  \n",
      "3      -0.04         0.8      -0.250000  0.600000  -0.250000    0.750000  \n",
      "2      -0.04         0.8      -0.250000  0.600000  -0.250000    0.750000  \n",
      "14      0.16         1.8       1.000000  0.666667   0.444444    0.833333  \n",
      "16     -0.08         0.6      -0.333333  0.400000  -0.666667    0.583333  \n",
      "17     -0.08         0.6      -0.333333  0.400000  -0.666667    0.583333  \n",
      "18     -0.08         0.6      -0.333333  0.400000  -0.666667    0.583333  \n"
     ]
    },
    {
     "name": "stderr",
     "output_type": "stream",
     "text": [
      "/Users/johnmoses/miniforge3/envs/mforge39/lib/python3.9/site-packages/mlxtend/frequent_patterns/fpcommon.py:161: DeprecationWarning: DataFrames with non-bool types result in worse computationalperformance and their support might be discontinued in the future.Please use a DataFrame with bool type\n",
      "  warnings.warn(\n"
     ]
    }
   ],
   "source": [
    "df = create_sample_data()\n",
    "transactions = prepare_transactions(df)\n",
    "rules = generate_rules(transactions)\n",
    "print(rules.sort_values('confidence', ascending=False))"
   ]
  },
  {
   "cell_type": "code",
   "execution_count": null,
   "metadata": {},
   "outputs": [],
   "source": [
    "import pandas as pd\n",
    "from mlxtend.frequent_patterns import apriori, association_rules"
   ]
  },
  {
   "cell_type": "code",
   "execution_count": 3,
   "metadata": {},
   "outputs": [
    {
     "data": {
      "text/html": [
       "<div>\n",
       "<style scoped>\n",
       "    .dataframe tbody tr th:only-of-type {\n",
       "        vertical-align: middle;\n",
       "    }\n",
       "\n",
       "    .dataframe tbody tr th {\n",
       "        vertical-align: top;\n",
       "    }\n",
       "\n",
       "    .dataframe thead th {\n",
       "        text-align: right;\n",
       "    }\n",
       "</style>\n",
       "<table border=\"1\" class=\"dataframe\">\n",
       "  <thead>\n",
       "    <tr style=\"text-align: right;\">\n",
       "      <th></th>\n",
       "      <th>products</th>\n",
       "    </tr>\n",
       "  </thead>\n",
       "  <tbody>\n",
       "    <tr>\n",
       "      <th>0</th>\n",
       "      <td>MILK,BREAD,BISCUIT</td>\n",
       "    </tr>\n",
       "    <tr>\n",
       "      <th>1</th>\n",
       "      <td>BREAD,MILK,BISCUIT,CORNFLAKES</td>\n",
       "    </tr>\n",
       "    <tr>\n",
       "      <th>2</th>\n",
       "      <td>BREAD,TEA,BOURNVITA</td>\n",
       "    </tr>\n",
       "    <tr>\n",
       "      <th>3</th>\n",
       "      <td>JAM,MAGGI,BREAD,MILK</td>\n",
       "    </tr>\n",
       "    <tr>\n",
       "      <th>4</th>\n",
       "      <td>MAGGI,TEA,BISCUIT</td>\n",
       "    </tr>\n",
       "  </tbody>\n",
       "</table>\n",
       "</div>"
      ],
      "text/plain": [
       "                        products\n",
       "0             MILK,BREAD,BISCUIT\n",
       "1  BREAD,MILK,BISCUIT,CORNFLAKES\n",
       "2            BREAD,TEA,BOURNVITA\n",
       "3           JAM,MAGGI,BREAD,MILK\n",
       "4              MAGGI,TEA,BISCUIT"
      ]
     },
     "execution_count": 3,
     "metadata": {},
     "output_type": "execute_result"
    }
   ],
   "source": [
    "df = pd.read_csv('../xdata/GroceryStoreDataset.csv', names=['products'], sep=',')\n",
    "df.head()"
   ]
  },
  {
   "cell_type": "code",
   "execution_count": 4,
   "metadata": {},
   "outputs": [
    {
     "data": {
      "text/plain": [
       "(20, 1)"
      ]
     },
     "execution_count": 4,
     "metadata": {},
     "output_type": "execute_result"
    }
   ],
   "source": [
    "df.shape"
   ]
  },
  {
   "cell_type": "markdown",
   "metadata": {},
   "source": [
    "Split products and create list"
   ]
  },
  {
   "cell_type": "code",
   "execution_count": 5,
   "metadata": {},
   "outputs": [
    {
     "data": {
      "text/plain": [
       "[['MILK', 'BREAD', 'BISCUIT'],\n",
       " ['BREAD', 'MILK', 'BISCUIT', 'CORNFLAKES'],\n",
       " ['BREAD', 'TEA', 'BOURNVITA'],\n",
       " ['JAM', 'MAGGI', 'BREAD', 'MILK'],\n",
       " ['MAGGI', 'TEA', 'BISCUIT'],\n",
       " ['BREAD', 'TEA', 'BOURNVITA'],\n",
       " ['MAGGI', 'TEA', 'CORNFLAKES'],\n",
       " ['MAGGI', 'BREAD', 'TEA', 'BISCUIT'],\n",
       " ['JAM', 'MAGGI', 'BREAD', 'TEA'],\n",
       " ['BREAD', 'MILK'],\n",
       " ['COFFEE', 'COCK', 'BISCUIT', 'CORNFLAKES'],\n",
       " ['COFFEE', 'COCK', 'BISCUIT', 'CORNFLAKES'],\n",
       " ['COFFEE', 'SUGER', 'BOURNVITA'],\n",
       " ['BREAD', 'COFFEE', 'COCK'],\n",
       " ['BREAD', 'SUGER', 'BISCUIT'],\n",
       " ['COFFEE', 'SUGER', 'CORNFLAKES'],\n",
       " ['BREAD', 'SUGER', 'BOURNVITA'],\n",
       " ['BREAD', 'COFFEE', 'SUGER'],\n",
       " ['BREAD', 'COFFEE', 'SUGER'],\n",
       " ['TEA', 'MILK', 'COFFEE', 'CORNFLAKES']]"
      ]
     },
     "execution_count": 5,
     "metadata": {},
     "output_type": "execute_result"
    }
   ],
   "source": [
    "data = list(df[\"products\"].apply(lambda x:x.split(\",\") ))\n",
    "data"
   ]
  },
  {
   "cell_type": "markdown",
   "metadata": {},
   "source": [
    "Transform the list with one-shot encoding"
   ]
  },
  {
   "cell_type": "code",
   "execution_count": 6,
   "metadata": {},
   "outputs": [
    {
     "name": "stderr",
     "output_type": "stream",
     "text": [
      "/Users/johnmoses/miniforge3/envs/mforge39/lib/python3.9/site-packages/scipy/__init__.py:155: UserWarning: A NumPy version >=1.18.5 and <1.25.0 is required for this version of SciPy (detected version 2.0.2\n",
      "  warnings.warn(f\"A NumPy version >={np_minversion} and <{np_maxversion}\"\n"
     ]
    },
    {
     "ename": "ValueError",
     "evalue": "numpy.dtype size changed, may indicate binary incompatibility. Expected 96 from C header, got 88 from PyObject",
     "output_type": "error",
     "traceback": [
      "\u001b[0;31m---------------------------------------------------------------------------\u001b[0m",
      "\u001b[0;31mValueError\u001b[0m                                Traceback (most recent call last)",
      "Cell \u001b[0;32mIn[6], line 1\u001b[0m\n\u001b[0;32m----> 1\u001b[0m \u001b[38;5;28;01mfrom\u001b[39;00m \u001b[38;5;21;01mmlxtend\u001b[39;00m\u001b[38;5;21;01m.\u001b[39;00m\u001b[38;5;21;01mpreprocessing\u001b[39;00m \u001b[38;5;28;01mimport\u001b[39;00m TransactionEncoder\n\u001b[1;32m      2\u001b[0m a \u001b[38;5;241m=\u001b[39m TransactionEncoder()\n\u001b[1;32m      3\u001b[0m a_data \u001b[38;5;241m=\u001b[39m a\u001b[38;5;241m.\u001b[39mfit(data)\u001b[38;5;241m.\u001b[39mtransform(data)\n",
      "File \u001b[0;32m~/miniforge3/envs/mforge39/lib/python3.9/site-packages/mlxtend/preprocessing/__init__.py:7\u001b[0m\n\u001b[1;32m      1\u001b[0m \u001b[38;5;66;03m# Sebastian Raschka 2014-2024\u001b[39;00m\n\u001b[1;32m      2\u001b[0m \u001b[38;5;66;03m# mlxtend Machine Learning Library Extensions\u001b[39;00m\n\u001b[1;32m      3\u001b[0m \u001b[38;5;66;03m# Author: Sebastian Raschka <sebastianraschka.com>\u001b[39;00m\n\u001b[1;32m      4\u001b[0m \u001b[38;5;66;03m#\u001b[39;00m\n\u001b[1;32m      5\u001b[0m \u001b[38;5;66;03m# License: BSD 3 clause\u001b[39;00m\n\u001b[0;32m----> 7\u001b[0m \u001b[38;5;28;01mfrom\u001b[39;00m \u001b[38;5;21;01m.\u001b[39;00m\u001b[38;5;21;01mcopy_transformer\u001b[39;00m \u001b[38;5;28;01mimport\u001b[39;00m CopyTransformer\n\u001b[1;32m      8\u001b[0m \u001b[38;5;28;01mfrom\u001b[39;00m \u001b[38;5;21;01m.\u001b[39;00m\u001b[38;5;21;01mdense_transformer\u001b[39;00m \u001b[38;5;28;01mimport\u001b[39;00m DenseTransformer\n\u001b[1;32m      9\u001b[0m \u001b[38;5;28;01mfrom\u001b[39;00m \u001b[38;5;21;01m.\u001b[39;00m\u001b[38;5;21;01mmean_centering\u001b[39;00m \u001b[38;5;28;01mimport\u001b[39;00m MeanCenterer\n",
      "File \u001b[0;32m~/miniforge3/envs/mforge39/lib/python3.9/site-packages/mlxtend/preprocessing/copy_transformer.py:10\u001b[0m\n\u001b[1;32m      1\u001b[0m \u001b[38;5;66;03m# Sebastian Raschka 2014-2024\u001b[39;00m\n\u001b[1;32m      2\u001b[0m \u001b[38;5;66;03m# mlxtend Machine Learning Library Extensions\u001b[39;00m\n\u001b[1;32m      3\u001b[0m \u001b[38;5;66;03m#\u001b[39;00m\n\u001b[0;32m   (...)\u001b[0m\n\u001b[1;32m      6\u001b[0m \u001b[38;5;66;03m#\u001b[39;00m\n\u001b[1;32m      7\u001b[0m \u001b[38;5;66;03m# License: BSD 3 clause\u001b[39;00m\n\u001b[1;32m      9\u001b[0m \u001b[38;5;28;01mimport\u001b[39;00m \u001b[38;5;21;01mnumpy\u001b[39;00m \u001b[38;5;28;01mas\u001b[39;00m \u001b[38;5;21;01mnp\u001b[39;00m\n\u001b[0;32m---> 10\u001b[0m \u001b[38;5;28;01mfrom\u001b[39;00m \u001b[38;5;21;01mscipy\u001b[39;00m\u001b[38;5;21;01m.\u001b[39;00m\u001b[38;5;21;01msparse\u001b[39;00m \u001b[38;5;28;01mimport\u001b[39;00m issparse\n\u001b[1;32m     11\u001b[0m \u001b[38;5;28;01mfrom\u001b[39;00m \u001b[38;5;21;01msklearn\u001b[39;00m\u001b[38;5;21;01m.\u001b[39;00m\u001b[38;5;21;01mbase\u001b[39;00m \u001b[38;5;28;01mimport\u001b[39;00m BaseEstimator\n\u001b[1;32m     14\u001b[0m \u001b[38;5;28;01mclass\u001b[39;00m \u001b[38;5;21;01mCopyTransformer\u001b[39;00m(BaseEstimator):\n",
      "File \u001b[0;32m~/miniforge3/envs/mforge39/lib/python3.9/site-packages/scipy/sparse/__init__.py:269\u001b[0m\n\u001b[1;32m    267\u001b[0m \u001b[38;5;28;01mfrom\u001b[39;00m \u001b[38;5;21;01m.\u001b[39;00m\u001b[38;5;21;01m_csr\u001b[39;00m \u001b[38;5;28;01mimport\u001b[39;00m \u001b[38;5;241m*\u001b[39m\n\u001b[1;32m    268\u001b[0m \u001b[38;5;28;01mfrom\u001b[39;00m \u001b[38;5;21;01m.\u001b[39;00m\u001b[38;5;21;01m_csc\u001b[39;00m \u001b[38;5;28;01mimport\u001b[39;00m \u001b[38;5;241m*\u001b[39m\n\u001b[0;32m--> 269\u001b[0m \u001b[38;5;28;01mfrom\u001b[39;00m \u001b[38;5;21;01m.\u001b[39;00m\u001b[38;5;21;01m_lil\u001b[39;00m \u001b[38;5;28;01mimport\u001b[39;00m \u001b[38;5;241m*\u001b[39m\n\u001b[1;32m    270\u001b[0m \u001b[38;5;28;01mfrom\u001b[39;00m \u001b[38;5;21;01m.\u001b[39;00m\u001b[38;5;21;01m_dok\u001b[39;00m \u001b[38;5;28;01mimport\u001b[39;00m \u001b[38;5;241m*\u001b[39m\n\u001b[1;32m    271\u001b[0m \u001b[38;5;28;01mfrom\u001b[39;00m \u001b[38;5;21;01m.\u001b[39;00m\u001b[38;5;21;01m_coo\u001b[39;00m \u001b[38;5;28;01mimport\u001b[39;00m \u001b[38;5;241m*\u001b[39m\n",
      "File \u001b[0;32m~/miniforge3/envs/mforge39/lib/python3.9/site-packages/scipy/sparse/_lil.py:16\u001b[0m\n\u001b[1;32m     13\u001b[0m \u001b[38;5;28;01mfrom\u001b[39;00m \u001b[38;5;21;01m.\u001b[39;00m\u001b[38;5;21;01m_index\u001b[39;00m \u001b[38;5;28;01mimport\u001b[39;00m IndexMixin, INT_TYPES, _broadcast_arrays\n\u001b[1;32m     14\u001b[0m \u001b[38;5;28;01mfrom\u001b[39;00m \u001b[38;5;21;01m.\u001b[39;00m\u001b[38;5;21;01m_sputils\u001b[39;00m \u001b[38;5;28;01mimport\u001b[39;00m (getdtype, isshape, isscalarlike, upcast_scalar,\n\u001b[1;32m     15\u001b[0m                        get_index_dtype, check_shape, check_reshape_kwargs)\n\u001b[0;32m---> 16\u001b[0m \u001b[38;5;28;01mfrom\u001b[39;00m \u001b[38;5;21;01m.\u001b[39;00m \u001b[38;5;28;01mimport\u001b[39;00m _csparsetools\n\u001b[1;32m     19\u001b[0m \u001b[38;5;28;01mclass\u001b[39;00m \u001b[38;5;21;01mlil_matrix\u001b[39;00m(spmatrix, IndexMixin):\n\u001b[1;32m     20\u001b[0m \u001b[38;5;250m    \u001b[39m\u001b[38;5;124;03m\"\"\"Row-based list of lists sparse matrix\u001b[39;00m\n\u001b[1;32m     21\u001b[0m \n\u001b[1;32m     22\u001b[0m \u001b[38;5;124;03m    This is a structure for constructing sparse matrices incrementally.\u001b[39;00m\n\u001b[0;32m   (...)\u001b[0m\n\u001b[1;32m     80\u001b[0m \n\u001b[1;32m     81\u001b[0m \u001b[38;5;124;03m    \"\"\"\u001b[39;00m\n",
      "File \u001b[0;32m_csparsetools.pyx:1\u001b[0m, in \u001b[0;36minit scipy.sparse._csparsetools\u001b[0;34m()\u001b[0m\n",
      "\u001b[0;31mValueError\u001b[0m: numpy.dtype size changed, may indicate binary incompatibility. Expected 96 from C header, got 88 from PyObject"
     ]
    }
   ],
   "source": [
    "from mlxtend.preprocessing import TransactionEncoder\n",
    "a = TransactionEncoder()\n",
    "a_data = a.fit(data).transform(data)\n",
    "df = pd.DataFrame(a_data,columns=a.columns_)\n",
    "df = df.replace(False,0)\n",
    "df"
   ]
  },
  {
   "cell_type": "markdown",
   "metadata": {},
   "source": [
    "Set a threshold value for the support value and calculate the support value."
   ]
  },
  {
   "cell_type": "code",
   "execution_count": 13,
   "metadata": {},
   "outputs": [
    {
     "name": "stdout",
     "output_type": "stream",
     "text": [
      "Processing 42 combinations | Sampling itemset size 3\n"
     ]
    },
    {
     "name": "stderr",
     "output_type": "stream",
     "text": [
      "/Users/johnmoses/miniforge3/envs/mforge39/lib/python3.9/site-packages/mlxtend/frequent_patterns/fpcommon.py:161: DeprecationWarning: DataFrames with non-bool types result in worse computationalperformance and their support might be discontinued in the future.Please use a DataFrame with bool type\n",
      "  warnings.warn(\n"
     ]
    },
    {
     "data": {
      "text/html": [
       "<div>\n",
       "<style scoped>\n",
       "    .dataframe tbody tr th:only-of-type {\n",
       "        vertical-align: middle;\n",
       "    }\n",
       "\n",
       "    .dataframe tbody tr th {\n",
       "        vertical-align: top;\n",
       "    }\n",
       "\n",
       "    .dataframe thead th {\n",
       "        text-align: right;\n",
       "    }\n",
       "</style>\n",
       "<table border=\"1\" class=\"dataframe\">\n",
       "  <thead>\n",
       "    <tr style=\"text-align: right;\">\n",
       "      <th></th>\n",
       "      <th>support</th>\n",
       "      <th>itemsets</th>\n",
       "    </tr>\n",
       "  </thead>\n",
       "  <tbody>\n",
       "    <tr>\n",
       "      <th>0</th>\n",
       "      <td>0.35</td>\n",
       "      <td>(BISCUIT)</td>\n",
       "    </tr>\n",
       "    <tr>\n",
       "      <th>1</th>\n",
       "      <td>0.2</td>\n",
       "      <td>(BOURNVITA)</td>\n",
       "    </tr>\n",
       "    <tr>\n",
       "      <th>2</th>\n",
       "      <td>0.65</td>\n",
       "      <td>(BREAD)</td>\n",
       "    </tr>\n",
       "    <tr>\n",
       "      <th>3</th>\n",
       "      <td>0.4</td>\n",
       "      <td>(COFFEE)</td>\n",
       "    </tr>\n",
       "    <tr>\n",
       "      <th>4</th>\n",
       "      <td>0.3</td>\n",
       "      <td>(CORNFLAKES)</td>\n",
       "    </tr>\n",
       "    <tr>\n",
       "      <th>5</th>\n",
       "      <td>0.25</td>\n",
       "      <td>(MAGGI)</td>\n",
       "    </tr>\n",
       "    <tr>\n",
       "      <th>6</th>\n",
       "      <td>0.25</td>\n",
       "      <td>(MILK)</td>\n",
       "    </tr>\n",
       "    <tr>\n",
       "      <th>7</th>\n",
       "      <td>0.3</td>\n",
       "      <td>(SUGER)</td>\n",
       "    </tr>\n",
       "    <tr>\n",
       "      <th>8</th>\n",
       "      <td>0.35</td>\n",
       "      <td>(TEA)</td>\n",
       "    </tr>\n",
       "    <tr>\n",
       "      <th>9</th>\n",
       "      <td>0.2</td>\n",
       "      <td>(BISCUIT, BREAD)</td>\n",
       "    </tr>\n",
       "    <tr>\n",
       "      <th>10</th>\n",
       "      <td>0.2</td>\n",
       "      <td>(MILK, BREAD)</td>\n",
       "    </tr>\n",
       "    <tr>\n",
       "      <th>11</th>\n",
       "      <td>0.2</td>\n",
       "      <td>(SUGER, BREAD)</td>\n",
       "    </tr>\n",
       "    <tr>\n",
       "      <th>12</th>\n",
       "      <td>0.2</td>\n",
       "      <td>(TEA, BREAD)</td>\n",
       "    </tr>\n",
       "    <tr>\n",
       "      <th>13</th>\n",
       "      <td>0.2</td>\n",
       "      <td>(CORNFLAKES, COFFEE)</td>\n",
       "    </tr>\n",
       "    <tr>\n",
       "      <th>14</th>\n",
       "      <td>0.2</td>\n",
       "      <td>(COFFEE, SUGER)</td>\n",
       "    </tr>\n",
       "    <tr>\n",
       "      <th>15</th>\n",
       "      <td>0.2</td>\n",
       "      <td>(MAGGI, TEA)</td>\n",
       "    </tr>\n",
       "  </tbody>\n",
       "</table>\n",
       "</div>"
      ],
      "text/plain": [
       "   support              itemsets\n",
       "0     0.35             (BISCUIT)\n",
       "1      0.2           (BOURNVITA)\n",
       "2     0.65               (BREAD)\n",
       "3      0.4              (COFFEE)\n",
       "4      0.3          (CORNFLAKES)\n",
       "5     0.25               (MAGGI)\n",
       "6     0.25                (MILK)\n",
       "7      0.3               (SUGER)\n",
       "8     0.35                 (TEA)\n",
       "9      0.2      (BISCUIT, BREAD)\n",
       "10     0.2         (MILK, BREAD)\n",
       "11     0.2        (SUGER, BREAD)\n",
       "12     0.2          (TEA, BREAD)\n",
       "13     0.2  (CORNFLAKES, COFFEE)\n",
       "14     0.2       (COFFEE, SUGER)\n",
       "15     0.2          (MAGGI, TEA)"
      ]
     },
     "execution_count": 13,
     "metadata": {},
     "output_type": "execute_result"
    }
   ],
   "source": [
    "df = apriori(df, min_support = 0.2, use_colnames = True, verbose = 1)\n",
    "df"
   ]
  },
  {
   "cell_type": "markdown",
   "metadata": {},
   "source": [
    "Let's view our interpretation values using the Associan rule function."
   ]
  },
  {
   "cell_type": "code",
   "execution_count": 14,
   "metadata": {},
   "outputs": [
    {
     "data": {
      "text/html": [
       "<div>\n",
       "<style scoped>\n",
       "    .dataframe tbody tr th:only-of-type {\n",
       "        vertical-align: middle;\n",
       "    }\n",
       "\n",
       "    .dataframe tbody tr th {\n",
       "        vertical-align: top;\n",
       "    }\n",
       "\n",
       "    .dataframe thead th {\n",
       "        text-align: right;\n",
       "    }\n",
       "</style>\n",
       "<table border=\"1\" class=\"dataframe\">\n",
       "  <thead>\n",
       "    <tr style=\"text-align: right;\">\n",
       "      <th></th>\n",
       "      <th>antecedents</th>\n",
       "      <th>consequents</th>\n",
       "      <th>antecedent support</th>\n",
       "      <th>consequent support</th>\n",
       "      <th>support</th>\n",
       "      <th>confidence</th>\n",
       "      <th>lift</th>\n",
       "      <th>representativity</th>\n",
       "      <th>leverage</th>\n",
       "      <th>conviction</th>\n",
       "      <th>zhangs_metric</th>\n",
       "      <th>jaccard</th>\n",
       "      <th>certainty</th>\n",
       "      <th>kulczynski</th>\n",
       "    </tr>\n",
       "  </thead>\n",
       "  <tbody>\n",
       "    <tr>\n",
       "      <th>0</th>\n",
       "      <td>(MILK)</td>\n",
       "      <td>(BREAD)</td>\n",
       "      <td>0.25</td>\n",
       "      <td>0.65</td>\n",
       "      <td>0.2</td>\n",
       "      <td>0.800000</td>\n",
       "      <td>1.230769</td>\n",
       "      <td>1.0</td>\n",
       "      <td>0.0375</td>\n",
       "      <td>1.75</td>\n",
       "      <td>0.250000</td>\n",
       "      <td>0.285714</td>\n",
       "      <td>0.428571</td>\n",
       "      <td>0.553846</td>\n",
       "    </tr>\n",
       "    <tr>\n",
       "      <th>1</th>\n",
       "      <td>(SUGER)</td>\n",
       "      <td>(BREAD)</td>\n",
       "      <td>0.30</td>\n",
       "      <td>0.65</td>\n",
       "      <td>0.2</td>\n",
       "      <td>0.666667</td>\n",
       "      <td>1.025641</td>\n",
       "      <td>1.0</td>\n",
       "      <td>0.0050</td>\n",
       "      <td>1.05</td>\n",
       "      <td>0.035714</td>\n",
       "      <td>0.266667</td>\n",
       "      <td>0.047619</td>\n",
       "      <td>0.487179</td>\n",
       "    </tr>\n",
       "    <tr>\n",
       "      <th>2</th>\n",
       "      <td>(CORNFLAKES)</td>\n",
       "      <td>(COFFEE)</td>\n",
       "      <td>0.30</td>\n",
       "      <td>0.40</td>\n",
       "      <td>0.2</td>\n",
       "      <td>0.666667</td>\n",
       "      <td>1.666667</td>\n",
       "      <td>1.0</td>\n",
       "      <td>0.0800</td>\n",
       "      <td>1.80</td>\n",
       "      <td>0.571429</td>\n",
       "      <td>0.400000</td>\n",
       "      <td>0.444444</td>\n",
       "      <td>0.583333</td>\n",
       "    </tr>\n",
       "    <tr>\n",
       "      <th>3</th>\n",
       "      <td>(SUGER)</td>\n",
       "      <td>(COFFEE)</td>\n",
       "      <td>0.30</td>\n",
       "      <td>0.40</td>\n",
       "      <td>0.2</td>\n",
       "      <td>0.666667</td>\n",
       "      <td>1.666667</td>\n",
       "      <td>1.0</td>\n",
       "      <td>0.0800</td>\n",
       "      <td>1.80</td>\n",
       "      <td>0.571429</td>\n",
       "      <td>0.400000</td>\n",
       "      <td>0.444444</td>\n",
       "      <td>0.583333</td>\n",
       "    </tr>\n",
       "    <tr>\n",
       "      <th>4</th>\n",
       "      <td>(MAGGI)</td>\n",
       "      <td>(TEA)</td>\n",
       "      <td>0.25</td>\n",
       "      <td>0.35</td>\n",
       "      <td>0.2</td>\n",
       "      <td>0.800000</td>\n",
       "      <td>2.285714</td>\n",
       "      <td>1.0</td>\n",
       "      <td>0.1125</td>\n",
       "      <td>3.25</td>\n",
       "      <td>0.750000</td>\n",
       "      <td>0.500000</td>\n",
       "      <td>0.692308</td>\n",
       "      <td>0.685714</td>\n",
       "    </tr>\n",
       "  </tbody>\n",
       "</table>\n",
       "</div>"
      ],
      "text/plain": [
       "    antecedents consequents  antecedent support  consequent support  support  \\\n",
       "0        (MILK)     (BREAD)                0.25                0.65      0.2   \n",
       "1       (SUGER)     (BREAD)                0.30                0.65      0.2   \n",
       "2  (CORNFLAKES)    (COFFEE)                0.30                0.40      0.2   \n",
       "3       (SUGER)    (COFFEE)                0.30                0.40      0.2   \n",
       "4       (MAGGI)       (TEA)                0.25                0.35      0.2   \n",
       "\n",
       "   confidence      lift  representativity  leverage  conviction  \\\n",
       "0    0.800000  1.230769               1.0    0.0375        1.75   \n",
       "1    0.666667  1.025641               1.0    0.0050        1.05   \n",
       "2    0.666667  1.666667               1.0    0.0800        1.80   \n",
       "3    0.666667  1.666667               1.0    0.0800        1.80   \n",
       "4    0.800000  2.285714               1.0    0.1125        3.25   \n",
       "\n",
       "   zhangs_metric   jaccard  certainty  kulczynski  \n",
       "0       0.250000  0.285714   0.428571    0.553846  \n",
       "1       0.035714  0.266667   0.047619    0.487179  \n",
       "2       0.571429  0.400000   0.444444    0.583333  \n",
       "3       0.571429  0.400000   0.444444    0.583333  \n",
       "4       0.750000  0.500000   0.692308    0.685714  "
      ]
     },
     "execution_count": 14,
     "metadata": {},
     "output_type": "execute_result"
    }
   ],
   "source": [
    "df_ar = association_rules(df, metric = \"confidence\", min_threshold = 0.6)\n",
    "df_ar"
   ]
  }
 ],
 "metadata": {
  "kernelspec": {
   "display_name": "Python 3.9.9 64-bit ('3.9.9')",
   "language": "python",
   "name": "python3"
  },
  "language_info": {
   "codemirror_mode": {
    "name": "ipython",
    "version": 3
   },
   "file_extension": ".py",
   "mimetype": "text/x-python",
   "name": "python",
   "nbconvert_exporter": "python",
   "pygments_lexer": "ipython3",
   "version": "3.9.19"
  },
  "orig_nbformat": 4,
  "vscode": {
   "interpreter": {
    "hash": "21aa380f16a0108e00536e3e7793513d8af019678eecf9873d21f81a20cdd033"
   }
  }
 },
 "nbformat": 4,
 "nbformat_minor": 2
}
